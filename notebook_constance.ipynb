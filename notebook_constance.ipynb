{
 "cells": [
  {
   "cell_type": "code",
   "execution_count": 1,
   "metadata": {
    "collapsed": true
   },
   "outputs": [],
   "source": [
    "# Import the tables of the data set as dataframes.\n",
    "\n",
    "import numpy as np\n",
    "import pandas as pd\n",
    "import matplotlib.pyplot as plt\n",
    "\n",
    "DATA_DIR = './data'\n",
    "\n",
    "# You can use the nrows=X argument in pd.read_csv to truncate your data\n",
    "users = pd.read_csv('{}/calcularis_small_users.csv'.format(DATA_DIR), index_col=0)\n",
    "events = pd.read_csv('{}/calcularis_small_events.csv'.format(DATA_DIR), index_col=0)\n",
    "subtasks = pd.read_csv('{}/calcularis_small_subtasks.csv'.format(DATA_DIR), index_col=0)\n",
    "\n",
    "#users = pd.read_csv('{}/full_calcularis_users.csv'.format(DATA_DIR), index_col=0)\n",
    "#events = pd.read_csv('{}/full_calcularis_events.csv'.format(DATA_DIR), index_col=0)\n",
    "#subtasks = pd.read_csv('{}/full_calcularis_subtasks.csv'.format(DATA_DIR), index_col=0)"
   ]
  },
  {
   "cell_type": "code",
   "execution_count": 2,
   "outputs": [
    {
     "data": {
      "text/plain": "         learning_time_ms                     start                       end  \\\nuser_id                                                                         \n1                14032710  2022-11-02T08:37:56.549Z  2023-02-09T11:08:02.599Z   \n2                16268350  2022-09-07T07:53:38.865Z  2023-02-09T08:39:14.692Z   \n3                 8012030  2021-09-27T07:45:51.806Z  2022-01-13T12:14:09.565Z   \n4                 1414421  2019-11-12T12:18:15.724Z  2020-10-02T09:20:28.798Z   \n5                17502108  2022-04-26T11:38:44.114Z  2022-08-29T15:52:11.087Z   \n\n         logged_in_time_ms language country  \nuser_id                                      \n1                 22151340       de      CH  \n2                 85421273       nl      NL  \n3                 16651482       de      DE  \n4                  4561768       de      CH  \n5                 25601470       de      CH  ",
      "text/html": "<div>\n<style scoped>\n    .dataframe tbody tr th:only-of-type {\n        vertical-align: middle;\n    }\n\n    .dataframe tbody tr th {\n        vertical-align: top;\n    }\n\n    .dataframe thead th {\n        text-align: right;\n    }\n</style>\n<table border=\"1\" class=\"dataframe\">\n  <thead>\n    <tr style=\"text-align: right;\">\n      <th></th>\n      <th>learning_time_ms</th>\n      <th>start</th>\n      <th>end</th>\n      <th>logged_in_time_ms</th>\n      <th>language</th>\n      <th>country</th>\n    </tr>\n    <tr>\n      <th>user_id</th>\n      <th></th>\n      <th></th>\n      <th></th>\n      <th></th>\n      <th></th>\n      <th></th>\n    </tr>\n  </thead>\n  <tbody>\n    <tr>\n      <th>1</th>\n      <td>14032710</td>\n      <td>2022-11-02T08:37:56.549Z</td>\n      <td>2023-02-09T11:08:02.599Z</td>\n      <td>22151340</td>\n      <td>de</td>\n      <td>CH</td>\n    </tr>\n    <tr>\n      <th>2</th>\n      <td>16268350</td>\n      <td>2022-09-07T07:53:38.865Z</td>\n      <td>2023-02-09T08:39:14.692Z</td>\n      <td>85421273</td>\n      <td>nl</td>\n      <td>NL</td>\n    </tr>\n    <tr>\n      <th>3</th>\n      <td>8012030</td>\n      <td>2021-09-27T07:45:51.806Z</td>\n      <td>2022-01-13T12:14:09.565Z</td>\n      <td>16651482</td>\n      <td>de</td>\n      <td>DE</td>\n    </tr>\n    <tr>\n      <th>4</th>\n      <td>1414421</td>\n      <td>2019-11-12T12:18:15.724Z</td>\n      <td>2020-10-02T09:20:28.798Z</td>\n      <td>4561768</td>\n      <td>de</td>\n      <td>CH</td>\n    </tr>\n    <tr>\n      <th>5</th>\n      <td>17502108</td>\n      <td>2022-04-26T11:38:44.114Z</td>\n      <td>2022-08-29T15:52:11.087Z</td>\n      <td>25601470</td>\n      <td>de</td>\n      <td>CH</td>\n    </tr>\n  </tbody>\n</table>\n</div>"
     },
     "execution_count": 2,
     "metadata": {},
     "output_type": "execute_result"
    }
   ],
   "source": [
    "users.head(5)"
   ],
   "metadata": {
    "collapsed": false
   }
  },
  {
   "cell_type": "code",
   "execution_count": 3,
   "outputs": [
    {
     "data": {
      "text/plain": "          user_id       mode   game_name  learning_time_ms number_range  \\\nevent_id                                                                  \n0               1     NORMAL  Subitizing            8835.0          R10   \n1               1     NORMAL  Conversion           21167.0          R10   \n2               1     NORMAL  Conversion           11182.0          R10   \n3               1     NORMAL     Landing            6823.0          R10   \n4               1  END_OF_NR  Conversion            9107.0          R10   \n\n                             start                       end  skill_id  type  \nevent_id                                                                      \n0         2022-11-02T08:39:12.355Z  2022-11-02T08:39:25.130Z       1.0  task  \n1         2022-11-11T10:26:27.893Z  2022-11-11T10:26:49.260Z       4.0  task  \n2         2022-11-18T10:34:01.044Z  2022-11-18T10:34:12.423Z       7.0  task  \n3         2022-11-25T10:32:43.428Z  2022-11-25T10:32:56.986Z      19.0  task  \n4         2022-12-02T10:44:40.555Z  2022-12-02T10:44:49.874Z       7.0  task  ",
      "text/html": "<div>\n<style scoped>\n    .dataframe tbody tr th:only-of-type {\n        vertical-align: middle;\n    }\n\n    .dataframe tbody tr th {\n        vertical-align: top;\n    }\n\n    .dataframe thead th {\n        text-align: right;\n    }\n</style>\n<table border=\"1\" class=\"dataframe\">\n  <thead>\n    <tr style=\"text-align: right;\">\n      <th></th>\n      <th>user_id</th>\n      <th>mode</th>\n      <th>game_name</th>\n      <th>learning_time_ms</th>\n      <th>number_range</th>\n      <th>start</th>\n      <th>end</th>\n      <th>skill_id</th>\n      <th>type</th>\n    </tr>\n    <tr>\n      <th>event_id</th>\n      <th></th>\n      <th></th>\n      <th></th>\n      <th></th>\n      <th></th>\n      <th></th>\n      <th></th>\n      <th></th>\n      <th></th>\n    </tr>\n  </thead>\n  <tbody>\n    <tr>\n      <th>0</th>\n      <td>1</td>\n      <td>NORMAL</td>\n      <td>Subitizing</td>\n      <td>8835.0</td>\n      <td>R10</td>\n      <td>2022-11-02T08:39:12.355Z</td>\n      <td>2022-11-02T08:39:25.130Z</td>\n      <td>1.0</td>\n      <td>task</td>\n    </tr>\n    <tr>\n      <th>1</th>\n      <td>1</td>\n      <td>NORMAL</td>\n      <td>Conversion</td>\n      <td>21167.0</td>\n      <td>R10</td>\n      <td>2022-11-11T10:26:27.893Z</td>\n      <td>2022-11-11T10:26:49.260Z</td>\n      <td>4.0</td>\n      <td>task</td>\n    </tr>\n    <tr>\n      <th>2</th>\n      <td>1</td>\n      <td>NORMAL</td>\n      <td>Conversion</td>\n      <td>11182.0</td>\n      <td>R10</td>\n      <td>2022-11-18T10:34:01.044Z</td>\n      <td>2022-11-18T10:34:12.423Z</td>\n      <td>7.0</td>\n      <td>task</td>\n    </tr>\n    <tr>\n      <th>3</th>\n      <td>1</td>\n      <td>NORMAL</td>\n      <td>Landing</td>\n      <td>6823.0</td>\n      <td>R10</td>\n      <td>2022-11-25T10:32:43.428Z</td>\n      <td>2022-11-25T10:32:56.986Z</td>\n      <td>19.0</td>\n      <td>task</td>\n    </tr>\n    <tr>\n      <th>4</th>\n      <td>1</td>\n      <td>END_OF_NR</td>\n      <td>Conversion</td>\n      <td>9107.0</td>\n      <td>R10</td>\n      <td>2022-12-02T10:44:40.555Z</td>\n      <td>2022-12-02T10:44:49.874Z</td>\n      <td>7.0</td>\n      <td>task</td>\n    </tr>\n  </tbody>\n</table>\n</div>"
     },
     "execution_count": 3,
     "metadata": {},
     "output_type": "execute_result"
    }
   ],
   "source": [
    "events.head(5)"
   ],
   "metadata": {
    "collapsed": false
   }
  },
  {
   "cell_type": "code",
   "execution_count": 4,
   "outputs": [
    {
     "data": {
      "text/plain": "            event_id  user_id  aim                    answer answerMode  \\\nsubtask_id                                                                \n0                  0        1  NaN                         4        NaN   \n1                  0        1  NaN                         1        NaN   \n2                  1        1  NaN                         3        NaN   \n3                  2        1  NaN                         5        NaN   \n4                  3        1  3.0  {'a': 2, 'b': 2.0402703}        NaN   \n\n           availableNumbers  correct correctAnswerObject  correctNumber  \\\nsubtask_id                                                                \n0                       NaN     True                   4            4.0   \n1                       NaN     True                 NaN            NaN   \n2                       NaN     True                   3            NaN   \n3                       NaN     True                   5            NaN   \n4                       NaN    False  {'a': 3, 'b': 3.0}            NaN   \n\n              destination  ...  startPosition  subtask_finished_timestamp  \\\nsubtask_id                 ...                                              \n0                     NaN  ...            NaN    2022-11-02T08:39:24.930Z   \n1                     NaN  ...            NaN    2022-11-02T08:39:24.930Z   \n2                  ARABIC  ...            NaN    2022-11-11T10:26:49.007Z   \n3           EXPLODED_BEAM  ...            NaN    2022-11-18T10:34:12.191Z   \n4                     NaN  ...            0.5    2022-11-25T10:32:56.805Z   \n\n           target  timeoutInSeconds  timeoutInSteps  \\\nsubtask_id                                            \n0             NaN               NaN             NaN   \n1             NaN               0.0             2.0   \n2             NaN               NaN             NaN   \n3             NaN               NaN             NaN   \n4             NaN               NaN             NaN   \n\n                                        type upperBound  divisor  \\\nsubtask_id                                                         \n0           ConciseSubitizingTaskDescription        NaN      NaN   \n1                  ConciseTimeoutDescription        NaN      NaN   \n2           ConciseConversionTaskDescription        NaN      NaN   \n3           ConciseConversionTaskDescription        NaN      NaN   \n4              ConciseLandingTaskDescription        3.5      NaN   \n\n            orderIndependent step  \nsubtask_id                         \n0                        NaN  NaN  \n1                        NaN  NaN  \n2                        NaN  NaN  \n3                        NaN  NaN  \n4                        NaN  NaN  \n\n[5 rows x 44 columns]",
      "text/html": "<div>\n<style scoped>\n    .dataframe tbody tr th:only-of-type {\n        vertical-align: middle;\n    }\n\n    .dataframe tbody tr th {\n        vertical-align: top;\n    }\n\n    .dataframe thead th {\n        text-align: right;\n    }\n</style>\n<table border=\"1\" class=\"dataframe\">\n  <thead>\n    <tr style=\"text-align: right;\">\n      <th></th>\n      <th>event_id</th>\n      <th>user_id</th>\n      <th>aim</th>\n      <th>answer</th>\n      <th>answerMode</th>\n      <th>availableNumbers</th>\n      <th>correct</th>\n      <th>correctAnswerObject</th>\n      <th>correctNumber</th>\n      <th>destination</th>\n      <th>...</th>\n      <th>startPosition</th>\n      <th>subtask_finished_timestamp</th>\n      <th>target</th>\n      <th>timeoutInSeconds</th>\n      <th>timeoutInSteps</th>\n      <th>type</th>\n      <th>upperBound</th>\n      <th>divisor</th>\n      <th>orderIndependent</th>\n      <th>step</th>\n    </tr>\n    <tr>\n      <th>subtask_id</th>\n      <th></th>\n      <th></th>\n      <th></th>\n      <th></th>\n      <th></th>\n      <th></th>\n      <th></th>\n      <th></th>\n      <th></th>\n      <th></th>\n      <th></th>\n      <th></th>\n      <th></th>\n      <th></th>\n      <th></th>\n      <th></th>\n      <th></th>\n      <th></th>\n      <th></th>\n      <th></th>\n      <th></th>\n    </tr>\n  </thead>\n  <tbody>\n    <tr>\n      <th>0</th>\n      <td>0</td>\n      <td>1</td>\n      <td>NaN</td>\n      <td>4</td>\n      <td>NaN</td>\n      <td>NaN</td>\n      <td>True</td>\n      <td>4</td>\n      <td>4.0</td>\n      <td>NaN</td>\n      <td>...</td>\n      <td>NaN</td>\n      <td>2022-11-02T08:39:24.930Z</td>\n      <td>NaN</td>\n      <td>NaN</td>\n      <td>NaN</td>\n      <td>ConciseSubitizingTaskDescription</td>\n      <td>NaN</td>\n      <td>NaN</td>\n      <td>NaN</td>\n      <td>NaN</td>\n    </tr>\n    <tr>\n      <th>1</th>\n      <td>0</td>\n      <td>1</td>\n      <td>NaN</td>\n      <td>1</td>\n      <td>NaN</td>\n      <td>NaN</td>\n      <td>True</td>\n      <td>NaN</td>\n      <td>NaN</td>\n      <td>NaN</td>\n      <td>...</td>\n      <td>NaN</td>\n      <td>2022-11-02T08:39:24.930Z</td>\n      <td>NaN</td>\n      <td>0.0</td>\n      <td>2.0</td>\n      <td>ConciseTimeoutDescription</td>\n      <td>NaN</td>\n      <td>NaN</td>\n      <td>NaN</td>\n      <td>NaN</td>\n    </tr>\n    <tr>\n      <th>2</th>\n      <td>1</td>\n      <td>1</td>\n      <td>NaN</td>\n      <td>3</td>\n      <td>NaN</td>\n      <td>NaN</td>\n      <td>True</td>\n      <td>3</td>\n      <td>NaN</td>\n      <td>ARABIC</td>\n      <td>...</td>\n      <td>NaN</td>\n      <td>2022-11-11T10:26:49.007Z</td>\n      <td>NaN</td>\n      <td>NaN</td>\n      <td>NaN</td>\n      <td>ConciseConversionTaskDescription</td>\n      <td>NaN</td>\n      <td>NaN</td>\n      <td>NaN</td>\n      <td>NaN</td>\n    </tr>\n    <tr>\n      <th>3</th>\n      <td>2</td>\n      <td>1</td>\n      <td>NaN</td>\n      <td>5</td>\n      <td>NaN</td>\n      <td>NaN</td>\n      <td>True</td>\n      <td>5</td>\n      <td>NaN</td>\n      <td>EXPLODED_BEAM</td>\n      <td>...</td>\n      <td>NaN</td>\n      <td>2022-11-18T10:34:12.191Z</td>\n      <td>NaN</td>\n      <td>NaN</td>\n      <td>NaN</td>\n      <td>ConciseConversionTaskDescription</td>\n      <td>NaN</td>\n      <td>NaN</td>\n      <td>NaN</td>\n      <td>NaN</td>\n    </tr>\n    <tr>\n      <th>4</th>\n      <td>3</td>\n      <td>1</td>\n      <td>3.0</td>\n      <td>{'a': 2, 'b': 2.0402703}</td>\n      <td>NaN</td>\n      <td>NaN</td>\n      <td>False</td>\n      <td>{'a': 3, 'b': 3.0}</td>\n      <td>NaN</td>\n      <td>NaN</td>\n      <td>...</td>\n      <td>0.5</td>\n      <td>2022-11-25T10:32:56.805Z</td>\n      <td>NaN</td>\n      <td>NaN</td>\n      <td>NaN</td>\n      <td>ConciseLandingTaskDescription</td>\n      <td>3.5</td>\n      <td>NaN</td>\n      <td>NaN</td>\n      <td>NaN</td>\n    </tr>\n  </tbody>\n</table>\n<p>5 rows × 44 columns</p>\n</div>"
     },
     "execution_count": 4,
     "metadata": {},
     "output_type": "execute_result"
    }
   ],
   "source": [
    "subtasks.head()"
   ],
   "metadata": {
    "collapsed": false
   }
  },
  {
   "cell_type": "code",
   "execution_count": 5,
   "outputs": [],
   "source": [
    "#associate game to skill\n",
    "\n",
    "skill = events.game_name\n",
    "skill.where((skill != 'Subitizing') &\n",
    "            (skill != 'Conversion') &\n",
    "            (skill != 'Estimation on Number Line') &\n",
    "            (skill != 'Estimation') &\n",
    "            (skill != 'Scale: Conversion') &\n",
    "            (skill != 'Landing'), 'Number representation', inplace = True)\n",
    "skill.where((skill != 'Comparison') &\n",
    "            (skill != 'Secret Number') &\n",
    "            (skill != 'Distance') &\n",
    "            (skill != 'Scale: Composition') &\n",
    "            (skill != 'Order'), 'Number comparison/manipulation', inplace = True)\n",
    "skill.where((skill != 'Scale: Decomposition') &\n",
    "            (skill != 'Scale: Subtraction') &\n",
    "            (skill != 'Scale: Subtraction by Tens and Ones') &\n",
    "            (skill != 'Sliderule') &\n",
    "            (skill != 'Plus-minus') &\n",
    "            (skill != 'Difference') &\n",
    "            (skill != 'Completion') &\n",
    "            (skill != 'Calculator'), 'Addition/Substraction', inplace = True)\n",
    "skill.where((skill != 'Write as multiplication') &\n",
    "            (skill != 'Shelf: Jump Ahead') &\n",
    "            (skill != 'Shelf: given height') &\n",
    "            (skill != 'Shelf: random height') &\n",
    "            (skill != 'Distribution') &\n",
    "            (skill != 'Calculator: Multiplication') &\n",
    "            (skill != 'Calculator: Multiplication with ?') &\n",
    "            (skill != 'Calculator: Division') &\n",
    "            (skill != 'Jump backwards') &\n",
    "            (skill != 'Series'), 'Multiplication/Division', inplace = True)\n",
    "#add skill column to events table\n",
    "events['skill'] = skill"
   ],
   "metadata": {
    "collapsed": false
   }
  },
  {
   "cell_type": "code",
   "execution_count": 6,
   "outputs": [
    {
     "data": {
      "text/plain": "          user_id       mode              game_name  learning_time_ms  \\\nevent_id                                                                \n0               1     NORMAL  Number representation            8835.0   \n1               1     NORMAL  Number representation           21167.0   \n2               1     NORMAL  Number representation           11182.0   \n3               1     NORMAL  Number representation            6823.0   \n4               1  END_OF_NR  Number representation            9107.0   \n\n         number_range                     start                       end  \\\nevent_id                                                                    \n0                 R10  2022-11-02T08:39:12.355Z  2022-11-02T08:39:25.130Z   \n1                 R10  2022-11-11T10:26:27.893Z  2022-11-11T10:26:49.260Z   \n2                 R10  2022-11-18T10:34:01.044Z  2022-11-18T10:34:12.423Z   \n3                 R10  2022-11-25T10:32:43.428Z  2022-11-25T10:32:56.986Z   \n4                 R10  2022-12-02T10:44:40.555Z  2022-12-02T10:44:49.874Z   \n\n          skill_id  type                  skill  \nevent_id                                         \n0              1.0  task  Number representation  \n1              4.0  task  Number representation  \n2              7.0  task  Number representation  \n3             19.0  task  Number representation  \n4              7.0  task  Number representation  ",
      "text/html": "<div>\n<style scoped>\n    .dataframe tbody tr th:only-of-type {\n        vertical-align: middle;\n    }\n\n    .dataframe tbody tr th {\n        vertical-align: top;\n    }\n\n    .dataframe thead th {\n        text-align: right;\n    }\n</style>\n<table border=\"1\" class=\"dataframe\">\n  <thead>\n    <tr style=\"text-align: right;\">\n      <th></th>\n      <th>user_id</th>\n      <th>mode</th>\n      <th>game_name</th>\n      <th>learning_time_ms</th>\n      <th>number_range</th>\n      <th>start</th>\n      <th>end</th>\n      <th>skill_id</th>\n      <th>type</th>\n      <th>skill</th>\n    </tr>\n    <tr>\n      <th>event_id</th>\n      <th></th>\n      <th></th>\n      <th></th>\n      <th></th>\n      <th></th>\n      <th></th>\n      <th></th>\n      <th></th>\n      <th></th>\n      <th></th>\n    </tr>\n  </thead>\n  <tbody>\n    <tr>\n      <th>0</th>\n      <td>1</td>\n      <td>NORMAL</td>\n      <td>Number representation</td>\n      <td>8835.0</td>\n      <td>R10</td>\n      <td>2022-11-02T08:39:12.355Z</td>\n      <td>2022-11-02T08:39:25.130Z</td>\n      <td>1.0</td>\n      <td>task</td>\n      <td>Number representation</td>\n    </tr>\n    <tr>\n      <th>1</th>\n      <td>1</td>\n      <td>NORMAL</td>\n      <td>Number representation</td>\n      <td>21167.0</td>\n      <td>R10</td>\n      <td>2022-11-11T10:26:27.893Z</td>\n      <td>2022-11-11T10:26:49.260Z</td>\n      <td>4.0</td>\n      <td>task</td>\n      <td>Number representation</td>\n    </tr>\n    <tr>\n      <th>2</th>\n      <td>1</td>\n      <td>NORMAL</td>\n      <td>Number representation</td>\n      <td>11182.0</td>\n      <td>R10</td>\n      <td>2022-11-18T10:34:01.044Z</td>\n      <td>2022-11-18T10:34:12.423Z</td>\n      <td>7.0</td>\n      <td>task</td>\n      <td>Number representation</td>\n    </tr>\n    <tr>\n      <th>3</th>\n      <td>1</td>\n      <td>NORMAL</td>\n      <td>Number representation</td>\n      <td>6823.0</td>\n      <td>R10</td>\n      <td>2022-11-25T10:32:43.428Z</td>\n      <td>2022-11-25T10:32:56.986Z</td>\n      <td>19.0</td>\n      <td>task</td>\n      <td>Number representation</td>\n    </tr>\n    <tr>\n      <th>4</th>\n      <td>1</td>\n      <td>END_OF_NR</td>\n      <td>Number representation</td>\n      <td>9107.0</td>\n      <td>R10</td>\n      <td>2022-12-02T10:44:40.555Z</td>\n      <td>2022-12-02T10:44:49.874Z</td>\n      <td>7.0</td>\n      <td>task</td>\n      <td>Number representation</td>\n    </tr>\n  </tbody>\n</table>\n</div>"
     },
     "execution_count": 6,
     "metadata": {},
     "output_type": "execute_result"
    }
   ],
   "source": [
    "events.head(5)"
   ],
   "metadata": {
    "collapsed": false
   }
  },
  {
   "cell_type": "code",
   "execution_count": 8,
   "outputs": [
    {
     "data": {
      "text/plain": "subtask_id\n0            0\n1            0\n2            1\n3            2\n4            3\n         ...  \n55042    37415\n55043    37417\n55044    37417\n55045    37418\n55046    37419\nName: event_id, Length: 55047, dtype: int64"
     },
     "execution_count": 8,
     "metadata": {},
     "output_type": "execute_result"
    }
   ],
   "source": [
    "subtasks[\"event_id\"]\n",
    "#display(subtasks.apply(lambda x : events[x[\"event_id\"]][\"skill\"]))"
   ],
   "metadata": {
    "collapsed": false
   }
  },
  {
   "cell_type": "code",
   "execution_count": 12,
   "outputs": [
    {
     "data": {
      "text/plain": "       user_id  week  num_events  num_questions  %_correct  \\\n0            1   0.0           1              2      100.0   \n1            1   1.0           1              1      100.0   \n2            1   2.0           1              1      100.0   \n3            1   3.0           1              1        0.0   \n4            1   4.0           1              1      100.0   \n...        ...   ...         ...            ...        ...   \n10917      998  15.0           1              1      100.0   \n10918      998  20.0           1              1      100.0   \n10919     1000   0.0           1              2       50.0   \n10920     1000  16.0           1              1      100.0   \n10921     1000  21.0           1              1      100.0   \n\n       number_of_unique games most_frequent_nb_range  \\\n0                           1                    R10   \n1                           1                    R10   \n2                           1                    R10   \n3                           1                    R10   \n4                           1                    R10   \n...                       ...                    ...   \n10917                       1                   R100   \n10918                       1                   R100   \n10919                       1                    R10   \n10920                       1                    R10   \n10921                       1                    R10   \n\n       Nb_representation_%_correct  \n0                            100.0  \n1                            100.0  \n2                            100.0  \n3                              0.0  \n4                            100.0  \n...                            ...  \n10917                        100.0  \n10918                        100.0  \n10919                         50.0  \n10920                        100.0  \n10921                        100.0  \n\n[10922 rows x 8 columns]",
      "text/html": "<div>\n<style scoped>\n    .dataframe tbody tr th:only-of-type {\n        vertical-align: middle;\n    }\n\n    .dataframe tbody tr th {\n        vertical-align: top;\n    }\n\n    .dataframe thead th {\n        text-align: right;\n    }\n</style>\n<table border=\"1\" class=\"dataframe\">\n  <thead>\n    <tr style=\"text-align: right;\">\n      <th></th>\n      <th>user_id</th>\n      <th>week</th>\n      <th>num_events</th>\n      <th>num_questions</th>\n      <th>%_correct</th>\n      <th>number_of_unique games</th>\n      <th>most_frequent_nb_range</th>\n      <th>Nb_representation_%_correct</th>\n    </tr>\n  </thead>\n  <tbody>\n    <tr>\n      <th>0</th>\n      <td>1</td>\n      <td>0.0</td>\n      <td>1</td>\n      <td>2</td>\n      <td>100.0</td>\n      <td>1</td>\n      <td>R10</td>\n      <td>100.0</td>\n    </tr>\n    <tr>\n      <th>1</th>\n      <td>1</td>\n      <td>1.0</td>\n      <td>1</td>\n      <td>1</td>\n      <td>100.0</td>\n      <td>1</td>\n      <td>R10</td>\n      <td>100.0</td>\n    </tr>\n    <tr>\n      <th>2</th>\n      <td>1</td>\n      <td>2.0</td>\n      <td>1</td>\n      <td>1</td>\n      <td>100.0</td>\n      <td>1</td>\n      <td>R10</td>\n      <td>100.0</td>\n    </tr>\n    <tr>\n      <th>3</th>\n      <td>1</td>\n      <td>3.0</td>\n      <td>1</td>\n      <td>1</td>\n      <td>0.0</td>\n      <td>1</td>\n      <td>R10</td>\n      <td>0.0</td>\n    </tr>\n    <tr>\n      <th>4</th>\n      <td>1</td>\n      <td>4.0</td>\n      <td>1</td>\n      <td>1</td>\n      <td>100.0</td>\n      <td>1</td>\n      <td>R10</td>\n      <td>100.0</td>\n    </tr>\n    <tr>\n      <th>...</th>\n      <td>...</td>\n      <td>...</td>\n      <td>...</td>\n      <td>...</td>\n      <td>...</td>\n      <td>...</td>\n      <td>...</td>\n      <td>...</td>\n    </tr>\n    <tr>\n      <th>10917</th>\n      <td>998</td>\n      <td>15.0</td>\n      <td>1</td>\n      <td>1</td>\n      <td>100.0</td>\n      <td>1</td>\n      <td>R100</td>\n      <td>100.0</td>\n    </tr>\n    <tr>\n      <th>10918</th>\n      <td>998</td>\n      <td>20.0</td>\n      <td>1</td>\n      <td>1</td>\n      <td>100.0</td>\n      <td>1</td>\n      <td>R100</td>\n      <td>100.0</td>\n    </tr>\n    <tr>\n      <th>10919</th>\n      <td>1000</td>\n      <td>0.0</td>\n      <td>1</td>\n      <td>2</td>\n      <td>50.0</td>\n      <td>1</td>\n      <td>R10</td>\n      <td>50.0</td>\n    </tr>\n    <tr>\n      <th>10920</th>\n      <td>1000</td>\n      <td>16.0</td>\n      <td>1</td>\n      <td>1</td>\n      <td>100.0</td>\n      <td>1</td>\n      <td>R10</td>\n      <td>100.0</td>\n    </tr>\n    <tr>\n      <th>10921</th>\n      <td>1000</td>\n      <td>21.0</td>\n      <td>1</td>\n      <td>1</td>\n      <td>100.0</td>\n      <td>1</td>\n      <td>R10</td>\n      <td>100.0</td>\n    </tr>\n  </tbody>\n</table>\n<p>10922 rows × 8 columns</p>\n</div>"
     },
     "metadata": {},
     "output_type": "display_data"
    }
   ],
   "source": [
    "#creation of features dataframe\n",
    "\n",
    "df = subtasks.groupby([\"user_id\", \"week\"])[\"event_id\"].nunique().to_frame()\n",
    "df.columns = ['num_events']\n",
    "df[\"num_questions\"] = subtasks.groupby([\"user_id\", \"week\"]).size()\n",
    "df[\"%_correct\"] = subtasks.groupby([\"user_id\", \"week\"])[\"correct\"].sum()/subtasks.groupby([\"user_id\", \"week\"]).size()*100\n",
    "df[\"number_of_unique games\"] = events[events[\"type\"]==\"task\"].groupby([\"user_id\", \"week\"])[\"game_name\"].nunique()\n",
    "df[\"most_frequent_nb_range\"] = subtasks.groupby([\"user_id\", \"week\"])[\"range\"].apply(lambda x: x.value_counts().idxmax())\n",
    "df[\"Nb_representation_%_correct\"] = events[events[\"type\"]==\"task\"].groupby([\"user_id\", \"week\"]).apply(lambda x:np.sum(x[x['skill']=='Number representation'][\"num_correct\"]))/events[events[\"type\"]==\"task\"].groupby([\"user_id\", \"week\"]).apply(lambda x:np.sum(x[x['skill']=='Number representation'][\"num_questions\"]))*100\n",
    "\n",
    "\n",
    "\n",
    "#events[events[\"type\"]==\"task\"].groupby([\"user_id\", \"week\"]).apply(lambda x:print(x[x['skill']=='Number representation'][\"correct\"]))\n",
    "\n",
    "\n",
    "\n",
    "df.reset_index(inplace=True)\n",
    "display(df)"
   ],
   "metadata": {
    "collapsed": false
   }
  },
  {
   "cell_type": "code",
   "execution_count": null,
   "outputs": [],
   "source": [
    "#df[\"num_shop\"] = events.groupby([\"user_id\", \"week\"]).apply(lambda x: (x[\"type\"] == \"ZOO\").sum())"
   ],
   "metadata": {
    "collapsed": false
   }
  },
  {
   "cell_type": "code",
   "execution_count": 31,
   "outputs": [
    {
     "ename": "KeyError",
     "evalue": "'game_name'",
     "output_type": "error",
     "traceback": [
      "\u001B[0;31m---------------------------------------------------------------------------\u001B[0m",
      "\u001B[0;31mKeyError\u001B[0m                                  Traceback (most recent call last)",
      "Cell \u001B[0;32mIn[31], line 1\u001B[0m\n\u001B[0;32m----> 1\u001B[0m most_played \u001B[38;5;241m=\u001B[39m \u001B[43mdf\u001B[49m\u001B[38;5;241;43m.\u001B[39;49m\u001B[43mgroupby\u001B[49m\u001B[43m(\u001B[49m\u001B[43m[\u001B[49m\u001B[38;5;124;43m'\u001B[39;49m\u001B[38;5;124;43muser_id\u001B[39;49m\u001B[38;5;124;43m'\u001B[39;49m\u001B[43m,\u001B[49m\u001B[43m \u001B[49m\u001B[38;5;124;43m'\u001B[39;49m\u001B[38;5;124;43mweek\u001B[39;49m\u001B[38;5;124;43m'\u001B[39;49m\u001B[43m,\u001B[49m\u001B[43m \u001B[49m\u001B[38;5;124;43m'\u001B[39;49m\u001B[38;5;124;43mgame_name\u001B[39;49m\u001B[38;5;124;43m'\u001B[39;49m\u001B[43m]\u001B[49m\u001B[43m)\u001B[49m\u001B[38;5;241m.\u001B[39msize()\u001B[38;5;241m.\u001B[39mgroupby([\u001B[38;5;124m'\u001B[39m\u001B[38;5;124muser_id\u001B[39m\u001B[38;5;124m'\u001B[39m, \u001B[38;5;124m'\u001B[39m\u001B[38;5;124mweek\u001B[39m\u001B[38;5;124m'\u001B[39m])\u001B[38;5;241m.\u001B[39midxmax()\u001B[38;5;241m.\u001B[39mstr[\u001B[38;5;241m2\u001B[39m]\n\u001B[1;32m      2\u001B[0m most_played\u001B[38;5;241m.\u001B[39mwhere((most_played \u001B[38;5;241m!=\u001B[39m \u001B[38;5;124m'\u001B[39m\u001B[38;5;124mSubitizing\u001B[39m\u001B[38;5;124m'\u001B[39m) \u001B[38;5;241m&\u001B[39m\n\u001B[1;32m      3\u001B[0m                   (most_played \u001B[38;5;241m!=\u001B[39m \u001B[38;5;124m'\u001B[39m\u001B[38;5;124mConversion\u001B[39m\u001B[38;5;124m'\u001B[39m) \u001B[38;5;241m&\u001B[39m\n\u001B[1;32m      4\u001B[0m                   (most_played \u001B[38;5;241m!=\u001B[39m \u001B[38;5;124m'\u001B[39m\u001B[38;5;124mEstimation on Number Line\u001B[39m\u001B[38;5;124m'\u001B[39m) \u001B[38;5;241m&\u001B[39m\n\u001B[1;32m      5\u001B[0m                   (most_played \u001B[38;5;241m!=\u001B[39m \u001B[38;5;124m'\u001B[39m\u001B[38;5;124mEstimation\u001B[39m\u001B[38;5;124m'\u001B[39m) \u001B[38;5;241m&\u001B[39m\n\u001B[1;32m      6\u001B[0m                   (most_played \u001B[38;5;241m!=\u001B[39m \u001B[38;5;124m'\u001B[39m\u001B[38;5;124mScale: Conversion\u001B[39m\u001B[38;5;124m'\u001B[39m) \u001B[38;5;241m&\u001B[39m\n\u001B[1;32m      7\u001B[0m                   (most_played \u001B[38;5;241m!=\u001B[39m \u001B[38;5;124m'\u001B[39m\u001B[38;5;124mLanding\u001B[39m\u001B[38;5;124m'\u001B[39m), \u001B[38;5;124m'\u001B[39m\u001B[38;5;124mNumber representation\u001B[39m\u001B[38;5;124m'\u001B[39m, inplace \u001B[38;5;241m=\u001B[39m \u001B[38;5;28;01mTrue\u001B[39;00m)\n\u001B[1;32m      8\u001B[0m most_played\u001B[38;5;241m.\u001B[39mwhere((most_played \u001B[38;5;241m!=\u001B[39m \u001B[38;5;124m'\u001B[39m\u001B[38;5;124mComparison\u001B[39m\u001B[38;5;124m'\u001B[39m) \u001B[38;5;241m&\u001B[39m\n\u001B[1;32m      9\u001B[0m                   (most_played \u001B[38;5;241m!=\u001B[39m \u001B[38;5;124m'\u001B[39m\u001B[38;5;124mSecret Number\u001B[39m\u001B[38;5;124m'\u001B[39m) \u001B[38;5;241m&\u001B[39m\n\u001B[1;32m     10\u001B[0m                   (most_played \u001B[38;5;241m!=\u001B[39m \u001B[38;5;124m'\u001B[39m\u001B[38;5;124mDistance\u001B[39m\u001B[38;5;124m'\u001B[39m) \u001B[38;5;241m&\u001B[39m\n\u001B[1;32m     11\u001B[0m                   (most_played \u001B[38;5;241m!=\u001B[39m \u001B[38;5;124m'\u001B[39m\u001B[38;5;124mScale: Composition\u001B[39m\u001B[38;5;124m'\u001B[39m) \u001B[38;5;241m&\u001B[39m\n\u001B[1;32m     12\u001B[0m                   (most_played \u001B[38;5;241m!=\u001B[39m \u001B[38;5;124m'\u001B[39m\u001B[38;5;124mOrder\u001B[39m\u001B[38;5;124m'\u001B[39m), \u001B[38;5;124m'\u001B[39m\u001B[38;5;124mNumber comparison/manipulation\u001B[39m\u001B[38;5;124m'\u001B[39m, inplace \u001B[38;5;241m=\u001B[39m \u001B[38;5;28;01mTrue\u001B[39;00m)\n",
      "File \u001B[0;32m~/Lang/python/anaconda3/envs/MLBD_Calcularis_Sectumsempra/lib/python3.10/site-packages/pandas/core/frame.py:8402\u001B[0m, in \u001B[0;36mDataFrame.groupby\u001B[0;34m(self, by, axis, level, as_index, sort, group_keys, squeeze, observed, dropna)\u001B[0m\n\u001B[1;32m   8399\u001B[0m     \u001B[38;5;28;01mraise\u001B[39;00m \u001B[38;5;167;01mTypeError\u001B[39;00m(\u001B[38;5;124m\"\u001B[39m\u001B[38;5;124mYou have to supply one of \u001B[39m\u001B[38;5;124m'\u001B[39m\u001B[38;5;124mby\u001B[39m\u001B[38;5;124m'\u001B[39m\u001B[38;5;124m and \u001B[39m\u001B[38;5;124m'\u001B[39m\u001B[38;5;124mlevel\u001B[39m\u001B[38;5;124m'\u001B[39m\u001B[38;5;124m\"\u001B[39m)\n\u001B[1;32m   8400\u001B[0m axis \u001B[38;5;241m=\u001B[39m \u001B[38;5;28mself\u001B[39m\u001B[38;5;241m.\u001B[39m_get_axis_number(axis)\n\u001B[0;32m-> 8402\u001B[0m \u001B[38;5;28;01mreturn\u001B[39;00m \u001B[43mDataFrameGroupBy\u001B[49m\u001B[43m(\u001B[49m\n\u001B[1;32m   8403\u001B[0m \u001B[43m    \u001B[49m\u001B[43mobj\u001B[49m\u001B[38;5;241;43m=\u001B[39;49m\u001B[38;5;28;43mself\u001B[39;49m\u001B[43m,\u001B[49m\n\u001B[1;32m   8404\u001B[0m \u001B[43m    \u001B[49m\u001B[43mkeys\u001B[49m\u001B[38;5;241;43m=\u001B[39;49m\u001B[43mby\u001B[49m\u001B[43m,\u001B[49m\n\u001B[1;32m   8405\u001B[0m \u001B[43m    \u001B[49m\u001B[43maxis\u001B[49m\u001B[38;5;241;43m=\u001B[39;49m\u001B[43maxis\u001B[49m\u001B[43m,\u001B[49m\n\u001B[1;32m   8406\u001B[0m \u001B[43m    \u001B[49m\u001B[43mlevel\u001B[49m\u001B[38;5;241;43m=\u001B[39;49m\u001B[43mlevel\u001B[49m\u001B[43m,\u001B[49m\n\u001B[1;32m   8407\u001B[0m \u001B[43m    \u001B[49m\u001B[43mas_index\u001B[49m\u001B[38;5;241;43m=\u001B[39;49m\u001B[43mas_index\u001B[49m\u001B[43m,\u001B[49m\n\u001B[1;32m   8408\u001B[0m \u001B[43m    \u001B[49m\u001B[43msort\u001B[49m\u001B[38;5;241;43m=\u001B[39;49m\u001B[43msort\u001B[49m\u001B[43m,\u001B[49m\n\u001B[1;32m   8409\u001B[0m \u001B[43m    \u001B[49m\u001B[43mgroup_keys\u001B[49m\u001B[38;5;241;43m=\u001B[39;49m\u001B[43mgroup_keys\u001B[49m\u001B[43m,\u001B[49m\n\u001B[1;32m   8410\u001B[0m \u001B[43m    \u001B[49m\u001B[43msqueeze\u001B[49m\u001B[38;5;241;43m=\u001B[39;49m\u001B[43msqueeze\u001B[49m\u001B[43m,\u001B[49m\n\u001B[1;32m   8411\u001B[0m \u001B[43m    \u001B[49m\u001B[43mobserved\u001B[49m\u001B[38;5;241;43m=\u001B[39;49m\u001B[43mobserved\u001B[49m\u001B[43m,\u001B[49m\n\u001B[1;32m   8412\u001B[0m \u001B[43m    \u001B[49m\u001B[43mdropna\u001B[49m\u001B[38;5;241;43m=\u001B[39;49m\u001B[43mdropna\u001B[49m\u001B[43m,\u001B[49m\n\u001B[1;32m   8413\u001B[0m \u001B[43m\u001B[49m\u001B[43m)\u001B[49m\n",
      "File \u001B[0;32m~/Lang/python/anaconda3/envs/MLBD_Calcularis_Sectumsempra/lib/python3.10/site-packages/pandas/core/groupby/groupby.py:965\u001B[0m, in \u001B[0;36mGroupBy.__init__\u001B[0;34m(self, obj, keys, axis, level, grouper, exclusions, selection, as_index, sort, group_keys, squeeze, observed, mutated, dropna)\u001B[0m\n\u001B[1;32m    962\u001B[0m \u001B[38;5;28;01mif\u001B[39;00m grouper \u001B[38;5;129;01mis\u001B[39;00m \u001B[38;5;28;01mNone\u001B[39;00m:\n\u001B[1;32m    963\u001B[0m     \u001B[38;5;28;01mfrom\u001B[39;00m \u001B[38;5;21;01mpandas\u001B[39;00m\u001B[38;5;21;01m.\u001B[39;00m\u001B[38;5;21;01mcore\u001B[39;00m\u001B[38;5;21;01m.\u001B[39;00m\u001B[38;5;21;01mgroupby\u001B[39;00m\u001B[38;5;21;01m.\u001B[39;00m\u001B[38;5;21;01mgrouper\u001B[39;00m \u001B[38;5;28;01mimport\u001B[39;00m get_grouper\n\u001B[0;32m--> 965\u001B[0m     grouper, exclusions, obj \u001B[38;5;241m=\u001B[39m \u001B[43mget_grouper\u001B[49m\u001B[43m(\u001B[49m\n\u001B[1;32m    966\u001B[0m \u001B[43m        \u001B[49m\u001B[43mobj\u001B[49m\u001B[43m,\u001B[49m\n\u001B[1;32m    967\u001B[0m \u001B[43m        \u001B[49m\u001B[43mkeys\u001B[49m\u001B[43m,\u001B[49m\n\u001B[1;32m    968\u001B[0m \u001B[43m        \u001B[49m\u001B[43maxis\u001B[49m\u001B[38;5;241;43m=\u001B[39;49m\u001B[43maxis\u001B[49m\u001B[43m,\u001B[49m\n\u001B[1;32m    969\u001B[0m \u001B[43m        \u001B[49m\u001B[43mlevel\u001B[49m\u001B[38;5;241;43m=\u001B[39;49m\u001B[43mlevel\u001B[49m\u001B[43m,\u001B[49m\n\u001B[1;32m    970\u001B[0m \u001B[43m        \u001B[49m\u001B[43msort\u001B[49m\u001B[38;5;241;43m=\u001B[39;49m\u001B[43msort\u001B[49m\u001B[43m,\u001B[49m\n\u001B[1;32m    971\u001B[0m \u001B[43m        \u001B[49m\u001B[43mobserved\u001B[49m\u001B[38;5;241;43m=\u001B[39;49m\u001B[43mobserved\u001B[49m\u001B[43m,\u001B[49m\n\u001B[1;32m    972\u001B[0m \u001B[43m        \u001B[49m\u001B[43mmutated\u001B[49m\u001B[38;5;241;43m=\u001B[39;49m\u001B[38;5;28;43mself\u001B[39;49m\u001B[38;5;241;43m.\u001B[39;49m\u001B[43mmutated\u001B[49m\u001B[43m,\u001B[49m\n\u001B[1;32m    973\u001B[0m \u001B[43m        \u001B[49m\u001B[43mdropna\u001B[49m\u001B[38;5;241;43m=\u001B[39;49m\u001B[38;5;28;43mself\u001B[39;49m\u001B[38;5;241;43m.\u001B[39;49m\u001B[43mdropna\u001B[49m\u001B[43m,\u001B[49m\n\u001B[1;32m    974\u001B[0m \u001B[43m    \u001B[49m\u001B[43m)\u001B[49m\n\u001B[1;32m    976\u001B[0m \u001B[38;5;28mself\u001B[39m\u001B[38;5;241m.\u001B[39mobj \u001B[38;5;241m=\u001B[39m obj\n\u001B[1;32m    977\u001B[0m \u001B[38;5;28mself\u001B[39m\u001B[38;5;241m.\u001B[39maxis \u001B[38;5;241m=\u001B[39m obj\u001B[38;5;241m.\u001B[39m_get_axis_number(axis)\n",
      "File \u001B[0;32m~/Lang/python/anaconda3/envs/MLBD_Calcularis_Sectumsempra/lib/python3.10/site-packages/pandas/core/groupby/grouper.py:888\u001B[0m, in \u001B[0;36mget_grouper\u001B[0;34m(obj, key, axis, level, sort, observed, mutated, validate, dropna)\u001B[0m\n\u001B[1;32m    886\u001B[0m         in_axis, level, gpr \u001B[38;5;241m=\u001B[39m \u001B[38;5;28;01mFalse\u001B[39;00m, gpr, \u001B[38;5;28;01mNone\u001B[39;00m\n\u001B[1;32m    887\u001B[0m     \u001B[38;5;28;01melse\u001B[39;00m:\n\u001B[0;32m--> 888\u001B[0m         \u001B[38;5;28;01mraise\u001B[39;00m \u001B[38;5;167;01mKeyError\u001B[39;00m(gpr)\n\u001B[1;32m    889\u001B[0m \u001B[38;5;28;01melif\u001B[39;00m \u001B[38;5;28misinstance\u001B[39m(gpr, Grouper) \u001B[38;5;129;01mand\u001B[39;00m gpr\u001B[38;5;241m.\u001B[39mkey \u001B[38;5;129;01mis\u001B[39;00m \u001B[38;5;129;01mnot\u001B[39;00m \u001B[38;5;28;01mNone\u001B[39;00m:\n\u001B[1;32m    890\u001B[0m     \u001B[38;5;66;03m# Add key to exclusions\u001B[39;00m\n\u001B[1;32m    891\u001B[0m     exclusions\u001B[38;5;241m.\u001B[39madd(gpr\u001B[38;5;241m.\u001B[39mkey)\n",
      "\u001B[0;31mKeyError\u001B[0m: 'game_name'"
     ]
    }
   ],
   "source": [],
   "metadata": {
    "collapsed": false
   }
  },
  {
   "cell_type": "code",
   "execution_count": null,
   "outputs": [],
   "source": [],
   "metadata": {
    "collapsed": false
   }
  }
 ],
 "metadata": {
  "kernelspec": {
   "display_name": "Python 3",
   "language": "python",
   "name": "python3"
  },
  "language_info": {
   "codemirror_mode": {
    "name": "ipython",
    "version": 2
   },
   "file_extension": ".py",
   "mimetype": "text/x-python",
   "name": "python",
   "nbconvert_exporter": "python",
   "pygments_lexer": "ipython2",
   "version": "2.7.6"
  }
 },
 "nbformat": 4,
 "nbformat_minor": 0
}
